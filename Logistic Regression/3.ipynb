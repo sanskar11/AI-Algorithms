{
  "nbformat": 4,
  "nbformat_minor": 0,
  "metadata": {
    "kernelspec": {
      "display_name": "Python 3",
      "language": "python",
      "name": "python3"
    },
    "language_info": {
      "codemirror_mode": {
        "name": "ipython",
        "version": 3
      },
      "file_extension": ".py",
      "mimetype": "text/x-python",
      "name": "python",
      "nbconvert_exporter": "python",
      "pygments_lexer": "ipython3",
      "version": "3.6.9"
    },
    "colab": {
      "name": "3.ipynb",
      "provenance": [],
      "toc_visible": true
    }
  },
  "cells": [
    {
      "cell_type": "markdown",
      "metadata": {
        "id": "PPr-3tS40v42"
      },
      "source": [
        "# 2018111034"
      ]
    },
    {
      "cell_type": "code",
      "metadata": {
        "id": "P5llRGBMWFkU",
        "outputId": "2a83dd01-c3f7-4607-9ad7-0bd8db9da41e",
        "colab": {
          "base_uri": "https://localhost:8080/",
          "height": 52
        }
      },
      "source": [
        "!pip install gif"
      ],
      "execution_count": 23,
      "outputs": [
        {
          "output_type": "stream",
          "text": [
            "Requirement already satisfied: gif in /usr/local/lib/python3.6/dist-packages (3.0.0)\n",
            "Requirement already satisfied: Pillow>=7.1.2 in /usr/local/lib/python3.6/dist-packages (from gif) (8.0.1)\n"
          ],
          "name": "stdout"
        }
      ]
    },
    {
      "cell_type": "markdown",
      "metadata": {
        "id": "_2vdE3SxR_vN"
      },
      "source": [
        "## Excercise 1 - One vs One classifier\n",
        "\n",
        "The aim of the excercise is to build a multiclass classifier using a binary classifier using a one-vs-one classifier. Similar to the tutorial, you are provided with a 3 class synthetic dataset. In a one-vs-one classifier, a binary classifier is learnt between every pair of class. You are required to write the code and visualize the decision boundaries for the one-vs-one classifier setting."
      ]
    },
    {
      "cell_type": "code",
      "metadata": {
        "id": "xzBdDDp7R_vR",
        "outputId": "61b66de7-d302-466a-db25-a804b1d26c0e",
        "colab": {
          "base_uri": "https://localhost:8080/",
          "height": 34
        }
      },
      "source": [
        "# Import util.ipynb for helper functions\n",
        "import io, os, sys, types\n",
        "from IPython import get_ipython\n",
        "from nbformat import read\n",
        "from IPython.core.interactiveshell import InteractiveShell\n",
        "\n",
        "def find_notebook(fullname, path=None):\n",
        "    \"\"\"find a notebook, given its fully qualified name and an optional path\n",
        "\n",
        "    This turns \"foo.bar\" into \"foo/bar.ipynb\"\n",
        "    and tries turning \"Foo_Bar\" into \"Foo Bar\" if Foo_Bar\n",
        "    does not exist.\n",
        "    \"\"\"\n",
        "    name = fullname.rsplit('.', 1)[-1]\n",
        "    if not path:\n",
        "        path = ['']\n",
        "    for d in path:\n",
        "        nb_path = os.path.join(d, name + \".ipynb\")\n",
        "        #print('searching: %s'%nb_path)\n",
        "        if os.path.isfile(nb_path):\n",
        "            return nb_path\n",
        "        # let import Notebook_Name find \"Notebook Name.ipynb\"\n",
        "        nb_path = nb_path.replace(\"_\", \" \")\n",
        "        #print('searching: %s' % nb_path)\n",
        "        if os.path.isfile(nb_path):\n",
        "            return nb_path\n",
        "\n",
        "class NotebookLoader(object):\n",
        "    \"\"\"Module Loader for Jupyter Notebooks\"\"\"\n",
        "    def __init__(self, path=None):\n",
        "        self.shell = InteractiveShell.instance()\n",
        "        self.path = path\n",
        "\n",
        "    def load_module(self, fullname):\n",
        "        \"\"\"import a notebook as a module\"\"\"\n",
        "        path = find_notebook(fullname, self.path)\n",
        "\n",
        "        print (\"importing Jupyter notebook from %s\" % path)\n",
        "\n",
        "        # load the notebook object\n",
        "        with io.open(path, 'r', encoding='utf-8') as f:\n",
        "            nb = read(f, 4)\n",
        "\n",
        "\n",
        "        # create the module and add it to sys.modules\n",
        "        # if name in sys.modules:\n",
        "        #    return sys.modules[name]\n",
        "        mod = types.ModuleType(fullname)\n",
        "        mod.__file__ = path\n",
        "        mod.__loader__ = self\n",
        "        mod.__dict__['get_ipython'] = get_ipython\n",
        "        sys.modules[fullname] = mod\n",
        "\n",
        "        # extra work to ensure that magics that would affect the user_ns\n",
        "        # actually affect the notebook module's ns\n",
        "        save_user_ns = self.shell.user_ns\n",
        "        self.shell.user_ns = mod.__dict__\n",
        "\n",
        "        #print('Found %d cells'%len(nb.cells))\n",
        "        try:\n",
        "          for cell in nb.cells:\n",
        "            if cell.cell_type == 'code':\n",
        "                # transform the input to executable Python\n",
        "                code = self.shell.input_transformer_manager.transform_cell(cell.source)\n",
        "                # run the code in themodule\n",
        "                exec(code, mod.__dict__)\n",
        "        finally:\n",
        "            self.shell.user_ns = save_user_ns\n",
        "        return mod\n",
        "\n",
        "class NotebookFinder(object):\n",
        "    \"\"\"Module finder that locates Jupyter Notebooks\"\"\"\n",
        "    def __init__(self):\n",
        "        self.loaders = {}\n",
        "\n",
        "    def find_module(self, fullname, path=None):\n",
        "        nb_path = find_notebook(fullname, path)\n",
        "        if not nb_path:\n",
        "            return\n",
        "\n",
        "        key = path\n",
        "        if path:\n",
        "            # lists aren't hashable\n",
        "            key = os.path.sep.join(path)\n",
        "\n",
        "        if key not in self.loaders:\n",
        "            self.loaders[key] = NotebookLoader(path)\n",
        "        return self.loaders[key]\n",
        "\n",
        "\n",
        "#  register the NotebookFinder with sys.meta_path\n",
        "print('running importer')\n",
        "sys.meta_path.append(NotebookFinder())"
      ],
      "execution_count": 24,
      "outputs": [
        {
          "output_type": "stream",
          "text": [
            "running importer\n"
          ],
          "name": "stdout"
        }
      ]
    },
    {
      "cell_type": "code",
      "metadata": {
        "id": "6R_1r24VR_vf"
      },
      "source": [
        "# Imports\n",
        "\n",
        "from sklearn import datasets\n",
        "from sklearn.datasets import fetch_openml\n",
        "from sklearn.datasets import make_classification\n",
        "from sklearn.model_selection import train_test_split\n",
        "import matplotlib.pyplot as plt\n",
        "import numpy as np\n",
        "import seaborn as sns; sns.set();\n",
        "import pandas as pd\n",
        "from utils import plot_decision_boundary, get_accuracy, get_prediction\n",
        "from utils import plot_2D_input_datapoints, generate_gifs, sigmoid, normalize\n",
        "import math\n",
        "import gif\n",
        "from tqdm import tqdm\n",
        "import warnings\n",
        "warnings.filterwarnings('ignore')"
      ],
      "execution_count": 25,
      "outputs": []
    },
    {
      "cell_type": "code",
      "metadata": {
        "id": "MLzqodzJR_vr",
        "outputId": "8ff4acc2-288e-49fe-997a-d081d15d9f00",
        "colab": {
          "base_uri": "https://localhost:8080/",
          "height": 34
        }
      },
      "source": [
        "fig = plt.figure(figsize=(8,8));\n",
        "\n",
        "np.random.seed(4)\n",
        "\n",
        "# Getting only linearly separable dataset\n",
        "separable = False\n",
        "while not separable:\n",
        "    samples = make_classification(n_samples=450, n_features=2, n_redundant=0, n_informative=2, n_clusters_per_class=1, n_classes=3)\n",
        "    red = samples[0][samples[1] == 0]\n",
        "    blue = samples[0][samples[1] == 1]\n",
        "    green = samples[0][samples[1] == 2]\n",
        "    separable = any([red[:, k].max() < blue[:, k].min() or red[:, k].min() > blue[:, k].max() \n",
        "                  or green[:, k].min() > blue[:, k].max() or green[:, k].min() > red[:, k].max() \n",
        "                  or blue[:, k].min() > green[:, k].max() or red[:, k].min() > green[:, k].max() for k in range(2)])\n",
        "\n",
        "X, y = samples\n",
        "\n",
        "y = y.reshape((-1, 1))\n",
        "\n",
        "# Absorbing weight b of the hyperplane\n",
        "b_ones = np.ones((len(X), 1))\n",
        "X = np.hstack((X, b_ones))"
      ],
      "execution_count": 26,
      "outputs": [
        {
          "output_type": "display_data",
          "data": {
            "text/plain": [
              "<Figure size 576x576 with 0 Axes>"
            ]
          },
          "metadata": {
            "tags": []
          }
        }
      ]
    },
    {
      "cell_type": "code",
      "metadata": {
        "id": "77fjg6oLR_v0",
        "outputId": "9688c6d5-66e8-4d93-de6f-3871b590fc06",
        "colab": {
          "base_uri": "https://localhost:8080/",
          "height": 303
        }
      },
      "source": [
        "plot_2D_input_datapoints(X[:, :2], y)"
      ],
      "execution_count": 27,
      "outputs": [
        {
          "output_type": "display_data",
          "data": {
            "image/png": "[encoded data removed]",
            "text/plain": [
              "<Figure size 432x288 with 1 Axes>"
            ]
          },
          "metadata": {
            "tags": []
          }
        }
      ]
    },
    {
      "cell_type": "code",
      "metadata": {
        "id": "oAl2ILIjR_v8",
        "outputId": "b1a0f276-0c86-4b2c-a6a3-cc819f0e938a",
        "colab": {
          "base_uri": "https://localhost:8080/",
          "height": 69
        }
      },
      "source": [
        "# Train-Val-Test split\n",
        "X_train_val, X_test, Y_train_val, Y_test = train_test_split(X, y, shuffle=True, test_size = 0.2)\n",
        "X_train, X_val, Y_train, Y_val = train_test_split(X_train_val, Y_train_val, test_size = 0.125)\n",
        "\n",
        "print(\"Training dataset: \", X_train.shape)\n",
        "print(\"Validation dataset: \", X_val.shape)\n",
        "print(\"Test dataset: \", X_test.shape)"
      ],
      "execution_count": 28,
      "outputs": [
        {
          "output_type": "stream",
          "text": [
            "Training dataset:  (315, 3)\n",
            "Validation dataset:  (45, 3)\n",
            "Test dataset:  (90, 3)\n"
          ],
          "name": "stdout"
        }
      ]
    },
    {
      "cell_type": "markdown",
      "metadata": {
        "id": "5SSX8wB0R_wE"
      },
      "source": [
        "### Write your code below"
      ]
    },
    {
      "cell_type": "code",
      "metadata": {
        "id": "w-OJrMCvR_wF",
        "outputId": "9349be2d-1463-43ac-cc24-06abfd813d4b",
        "colab": {
          "base_uri": "https://localhost:8080/",
          "height": 816
        }
      },
      "source": [
        "epochs=1000\n",
        "lr=0.01\n",
        "n_examples, n_features = X_train.shape\n",
        "_, n_outputs = Y_train.shape\n",
        "classes = np.unique(Y_train)\n",
        "\n",
        "W_k_classes = []\n",
        "for k1 in classes:\n",
        "    for k2 in classes:\n",
        "        y = Y_train.ravel()\n",
        "        idx = np.where((y == k1) | (y == k2))\n",
        "        X = X_train[idx]\n",
        "        Y = Y_train[idx]\n",
        "        Y = np.where(Y == k1, 1, 0)\n",
        "        n_samples, _ = X.shape\n",
        "        const = 1 / np.sqrt(n_features)\n",
        "        W = np.random.randn(n_features, n_outputs) * const\n",
        "        W[-1, :] = 0\n",
        "        for epoch in range(epochs):\n",
        "            Y_pred = sigmoid(np.dot(X,W), 'no')\n",
        "            gradient = np.dot(1 / n_samples * X.T ,(Y - Y_pred))\n",
        "            W = W+ (lr * gradient)\n",
        "            if(epoch % (epochs // 5) == 0):\n",
        "                Y_pred = np.where(Y == 1, Y_pred, 1 - Y_pred)\n",
        "                cost = -1 / Y.shape[0] * np.sum(np.log(Y_pred))\n",
        "                print(f\"Classes {k1}, {k2}: epoch {epoch}: train_loss {cost}\")\n",
        "        W_k_classes.append(W.ravel())\n",
        "\n",
        "W=np.array(W_k_classes).T\n",
        "W.shape"
      ],
      "execution_count": 31,
      "outputs": [
        {
          "output_type": "stream",
          "text": [
            "Classes 0, 0: epoch 0: train_loss 0.7299490512119811\n",
            "Classes 0, 0: epoch 200: train_loss 0.17899304883892805\n",
            "Classes 0, 0: epoch 400: train_loss 0.10721738272155142\n",
            "Classes 0, 0: epoch 600: train_loss 0.07894439025433277\n",
            "Classes 0, 0: epoch 800: train_loss 0.06336971989243678\n",
            "Classes 0, 1: epoch 0: train_loss 0.3406496888258241\n",
            "Classes 0, 1: epoch 200: train_loss 0.21628002019304196\n",
            "Classes 0, 1: epoch 400: train_loss 0.17030698165766148\n",
            "Classes 0, 1: epoch 600: train_loss 0.14598765622206736\n",
            "Classes 0, 1: epoch 800: train_loss 0.1306611247742925\n",
            "Classes 0, 2: epoch 0: train_loss 1.9931679490704821\n",
            "Classes 0, 2: epoch 200: train_loss 0.794301065776606\n",
            "Classes 0, 2: epoch 400: train_loss 0.43305199382435605\n",
            "Classes 0, 2: epoch 600: train_loss 0.3230953415268112\n",
            "Classes 0, 2: epoch 800: train_loss 0.2714376318738794\n",
            "Classes 1, 0: epoch 0: train_loss 0.2781491477741491\n",
            "Classes 1, 0: epoch 200: train_loss 0.1999103193301014\n",
            "Classes 1, 0: epoch 400: train_loss 0.16488354759418833\n",
            "Classes 1, 0: epoch 600: train_loss 0.14457828773565035\n",
            "Classes 1, 0: epoch 800: train_loss 0.131066492348158\n",
            "Classes 1, 1: epoch 0: train_loss 1.017858418641142\n",
            "Classes 1, 1: epoch 200: train_loss 0.20849795225281761\n",
            "Classes 1, 1: epoch 400: train_loss 0.10757066888057942\n",
            "Classes 1, 1: epoch 600: train_loss 0.07244178447516167\n",
            "Classes 1, 1: epoch 800: train_loss 0.0547374919248038\n",
            "Classes 1, 2: epoch 0: train_loss 0.5372550969672125\n",
            "Classes 1, 2: epoch 200: train_loss 0.33112957159624407\n",
            "Classes 1, 2: epoch 400: train_loss 0.25240716444197797\n",
            "Classes 1, 2: epoch 600: train_loss 0.2108086583546305\n",
            "Classes 1, 2: epoch 800: train_loss 0.18466356381866766\n",
            "Classes 2, 0: epoch 0: train_loss 0.8585585098971287\n",
            "Classes 2, 0: epoch 200: train_loss 0.40877701552709517\n",
            "Classes 2, 0: epoch 400: train_loss 0.30511182176496665\n",
            "Classes 2, 0: epoch 600: train_loss 0.2588094422997942\n",
            "Classes 2, 0: epoch 800: train_loss 0.23085126451704976\n",
            "Classes 2, 1: epoch 0: train_loss 0.9631079571533299\n",
            "Classes 2, 1: epoch 200: train_loss 0.4568329117014194\n",
            "Classes 2, 1: epoch 400: train_loss 0.30424527676863017\n",
            "Classes 2, 1: epoch 600: train_loss 0.2414135243463588\n",
            "Classes 2, 1: epoch 800: train_loss 0.2062372856935954\n",
            "Classes 2, 2: epoch 0: train_loss 0.6807341577276229\n",
            "Classes 2, 2: epoch 200: train_loss 0.20535711756518837\n",
            "Classes 2, 2: epoch 400: train_loss 0.12993136431101177\n",
            "Classes 2, 2: epoch 600: train_loss 0.09815794126389137\n",
            "Classes 2, 2: epoch 800: train_loss 0.08008394744311023\n"
          ],
          "name": "stdout"
        },
        {
          "output_type": "execute_result",
          "data": {
            "text/plain": [
              "(3, 9)"
            ]
          },
          "metadata": {
            "tags": []
          },
          "execution_count": 31
        }
      ]
    },
    {
      "cell_type": "code",
      "metadata": {
        "id": "5LOxdsY0R_wL",
        "outputId": "6d5e04a4-9ee1-4f3f-b015-e5b041daef28",
        "colab": {
          "base_uri": "https://localhost:8080/",
          "height": 69
        }
      },
      "source": [
        "def accuracy(X, Y, W):\n",
        "    n_classes = int(np.sqrt(W.shape[1]))\n",
        "    y_pred = np.argmax(np.dot(X, W), axis = 1) // n_classes\n",
        "    return np.count_nonzero(Y.ravel() == y_pred) / Y.shape[0]\n",
        "\n",
        "print(f\"Training accuracy: {accuracy(X_train, Y_train, W)}\")\n",
        "print(f\"Validation accuracy: {accuracy(X_val, Y_val, W)}\")\n",
        "print(f\"Test accuracy: {accuracy(X_test, Y_test, W)}\")"
      ],
      "execution_count": 32,
      "outputs": [
        {
          "output_type": "stream",
          "text": [
            "Training accuracy: 0.9111111111111111\n",
            "Validation accuracy: 0.8888888888888888\n",
            "Test accuracy: 0.9333333333333333\n"
          ],
          "name": "stdout"
        }
      ]
    },
    {
      "cell_type": "code",
      "metadata": {
        "id": "qf00-Nelqij2"
      },
      "source": [
        ""
      ],
      "execution_count": 30,
      "outputs": []
    }
  ]
}