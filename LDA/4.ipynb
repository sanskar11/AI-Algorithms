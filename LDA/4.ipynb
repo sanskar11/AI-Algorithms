{
 "cells": [
  {
   "cell_type": "markdown",
   "metadata": {},
   "source": [
    "# 2018111034"
   ]
  },
  {
   "cell_type": "markdown",
   "metadata": {},
   "source": [
    "# Excercise 1\n",
    "\n",
    "In the tutorial you saw how to compute LDA for a two class problem. In this excercise we will work on a multi-class problem. We will be working with the famous Iris dataset that has been deposited on the UCI machine learning repository\n",
    "(https://archive.ics.uci.edu/ml/datasets/Iris).\n",
    "\n",
    "The iris dataset contains measurements for 150 iris flowers from three different species.\n",
    "\n",
    "The three classes in the Iris dataset:\n",
    "1. Iris-setosa (n=50)\n",
    "2. Iris-versicolor (n=50)\n",
    "3. Iris-virginica (n=50)\n",
    "\n",
    "The four features of the Iris dataset:\n",
    "1. sepal length in cm\n",
    "2. sepal width in cm\n",
    "3. petal length in cm\n",
    "4. petal width in cm\n",
    "\n",
    "<img src=\"iris_petal_sepal.png\">\n",
    "\n"
   ]
  },
  {
   "cell_type": "code",
   "execution_count": 30,
   "metadata": {},
   "outputs": [],
   "source": [
    "from sklearn.datasets import make_classification\n",
    "import matplotlib.pyplot as plt\n",
    "import numpy as np\n",
    "import seaborn as sns; sns.set();\n",
    "import pandas as pd\n",
    "from sklearn.model_selection import train_test_split\n",
    "from numpy import pi"
   ]
  },
  {
   "cell_type": "markdown",
   "metadata": {},
   "source": [
    "### Importing the dataset"
   ]
  },
  {
   "cell_type": "code",
   "execution_count": 31,
   "metadata": {},
   "outputs": [
    {
     "data": {
      "text/html": [
       "<div>\n",
       "<style scoped>\n",
       "    .dataframe tbody tr th:only-of-type {\n",
       "        vertical-align: middle;\n",
       "    }\n",
       "\n",
       "    .dataframe tbody tr th {\n",
       "        vertical-align: top;\n",
       "    }\n",
       "\n",
       "    .dataframe thead th {\n",
       "        text-align: right;\n",
       "    }\n",
       "</style>\n",
       "<table border=\"1\" class=\"dataframe\">\n",
       "  <thead>\n",
       "    <tr style=\"text-align: right;\">\n",
       "      <th></th>\n",
       "      <th>sepal-length</th>\n",
       "      <th>sepal-width</th>\n",
       "      <th>petal-length</th>\n",
       "      <th>petal-width</th>\n",
       "      <th>Class</th>\n",
       "    </tr>\n",
       "  </thead>\n",
       "  <tbody>\n",
       "    <tr>\n",
       "      <th>145</th>\n",
       "      <td>6.7</td>\n",
       "      <td>3.0</td>\n",
       "      <td>5.2</td>\n",
       "      <td>2.3</td>\n",
       "      <td>Iris-virginica</td>\n",
       "    </tr>\n",
       "    <tr>\n",
       "      <th>146</th>\n",
       "      <td>6.3</td>\n",
       "      <td>2.5</td>\n",
       "      <td>5.0</td>\n",
       "      <td>1.9</td>\n",
       "      <td>Iris-virginica</td>\n",
       "    </tr>\n",
       "    <tr>\n",
       "      <th>147</th>\n",
       "      <td>6.5</td>\n",
       "      <td>3.0</td>\n",
       "      <td>5.2</td>\n",
       "      <td>2.0</td>\n",
       "      <td>Iris-virginica</td>\n",
       "    </tr>\n",
       "    <tr>\n",
       "      <th>148</th>\n",
       "      <td>6.2</td>\n",
       "      <td>3.4</td>\n",
       "      <td>5.4</td>\n",
       "      <td>2.3</td>\n",
       "      <td>Iris-virginica</td>\n",
       "    </tr>\n",
       "    <tr>\n",
       "      <th>149</th>\n",
       "      <td>5.9</td>\n",
       "      <td>3.0</td>\n",
       "      <td>5.1</td>\n",
       "      <td>1.8</td>\n",
       "      <td>Iris-virginica</td>\n",
       "    </tr>\n",
       "  </tbody>\n",
       "</table>\n",
       "</div>"
      ],
      "text/plain": [
       "     sepal-length  sepal-width  petal-length  petal-width           Class\n",
       "145           6.7          3.0           5.2          2.3  Iris-virginica\n",
       "146           6.3          2.5           5.0          1.9  Iris-virginica\n",
       "147           6.5          3.0           5.2          2.0  Iris-virginica\n",
       "148           6.2          3.4           5.4          2.3  Iris-virginica\n",
       "149           5.9          3.0           5.1          1.8  Iris-virginica"
      ]
     },
     "execution_count": 31,
     "metadata": {},
     "output_type": "execute_result"
    }
   ],
   "source": [
    "url = \"https://archive.ics.uci.edu/ml/machine-learning-databases/iris/iris.data\"\n",
    "names = ['sepal-length', 'sepal-width', 'petal-length', 'petal-width', 'Class']\n",
    "dataset = pd.read_csv(url, names=names)\n",
    "\n",
    "dataset.tail()"
   ]
  },
  {
   "cell_type": "markdown",
   "metadata": {},
   "source": [
    "### Data preprocessing\n",
    "\n",
    "Once dataset is loaded into a pandas data frame object, the first step is to divide dataset into features and corresponding labels and then divide the resultant dataset into training and test sets. The following code divides data into labels and feature set:"
   ]
  },
  {
   "cell_type": "code",
   "execution_count": 32,
   "metadata": {},
   "outputs": [],
   "source": [
    "X = dataset.iloc[:, 0:4].values\n",
    "y = dataset.iloc[:, 4].values"
   ]
  },
  {
   "cell_type": "markdown",
   "metadata": {},
   "source": [
    "The above script assigns the first four columns of the dataset i.e. the feature set to X variable while the values in the fifth column (labels) are assigned to the y variable.\n",
    "\n",
    "The following code divides data into training and test sets:"
   ]
  },
  {
   "cell_type": "code",
   "execution_count": 33,
   "metadata": {},
   "outputs": [],
   "source": [
    "from sklearn.model_selection import train_test_split\n",
    "\n",
    "X_train, X_test, y_train, y_test = train_test_split(X, y, test_size=0.2, random_state=0)"
   ]
  },
  {
   "cell_type": "markdown",
   "metadata": {},
   "source": [
    "#### Feature Scaling\n",
    "\n",
    "We will now perform feature scaling as part of data preprocessing too. For this task, we will be using scikit learn `StandardScalar`."
   ]
  },
  {
   "cell_type": "code",
   "execution_count": 34,
   "metadata": {},
   "outputs": [],
   "source": [
    "from sklearn.preprocessing import StandardScaler\n",
    "\n",
    "sc = StandardScaler()\n",
    "X_train = sc.fit_transform(X_train)\n",
    "X_test = sc.transform(X_test)"
   ]
  },
  {
   "cell_type": "markdown",
   "metadata": {},
   "source": [
    "## Write your code below\n",
    "\n",
    "Write you code below to LDA on the IRIS dataset and compute the overall accuracy of the classifier."
   ]
  },
  {
   "cell_type": "code",
   "execution_count": 35,
   "metadata": {},
   "outputs": [],
   "source": [
    "# ### WRITE YOUR CODE HERE ####\n",
    "\n",
    "def class_map(Y, class_names=['Iris-setosa', 'Iris-versicolor', 'Iris-virginica']):\n",
    "    newY = Y.copy()\n",
    "    for i,c in enumerate(class_names):\n",
    "        newY[Y==c] = i\n",
    "    return newY.astype('int')\n",
    "\n",
    "y_train = class_map(y_train)\n",
    "y_test = class_map(y_test)"
   ]
  },
  {
   "cell_type": "code",
   "execution_count": 36,
   "metadata": {},
   "outputs": [],
   "source": [
    "def train(X,Y):\n",
    "    n,d = X.shape\n",
    "    k = Y.max()+1\n",
    "    mus=[]\n",
    "    for i in range(k):\n",
    "        val=X[np.argwhere(Y==i)][:,0].mean(axis=0)\n",
    "        mus=mus+[val]\n",
    "    mus = np.array(mus)\n",
    "    diff1 = (X - mus[Y])\n",
    "    Sw = np.dot(diff1.T,diff1)\n",
    "    mu = mus.mean(axis=0)\n",
    "    diff2 = mus-mu\n",
    "    Sb = np.dot(diff2.T,diff2)\n",
    "    eigvals, eigvecs = np.linalg.eig(np.linalg.pinv(Sw).dot(Sb))\n",
    "    idx = eigvals.argsort()[::-(k-1)]\n",
    "    eigvals = eigvals[idx][:(k-1)]\n",
    "    weights = np.atleast_1d(eigvecs[:, idx])[:, :(k-1)]\n",
    "    return weights, mus"
   ]
  },
  {
   "cell_type": "code",
   "execution_count": 37,
   "metadata": {},
   "outputs": [],
   "source": [
    "def classify(X,W,MUs):\n",
    "    k = W.shape[1]+1\n",
    "    mi=[]\n",
    "    for i in range(k):\n",
    "        val= np.dot(X,W) - np.dot(MUs[i],W)\n",
    "        mi=mi+[np.sqrt((val**2).sum(axis=1))]\n",
    "    return np.argmin(mi, axis=0)\n",
    "\n",
    "def get_acc(y_pred, y_actual):\n",
    "    return (y_pred==y_actual).sum()/y_actual.shape[0]"
   ]
  },
  {
   "cell_type": "code",
   "execution_count": 38,
   "metadata": {},
   "outputs": [],
   "source": [
    "ws, mus = train(X_train,y_train)"
   ]
  },
  {
   "cell_type": "code",
   "execution_count": 39,
   "metadata": {},
   "outputs": [
    {
     "name": "stdout",
     "output_type": "stream",
     "text": [
      "Training accuracy:\t98.333 percent\n",
      "Testing accuracy:\t100.0 percent\n"
     ]
    }
   ],
   "source": [
    "train_acc = get_acc( classify(X_train,ws,mus), y_train)\n",
    "test_acc = get_acc( classify(X_test,ws,mus), y_test)\n",
    "print(f\"Training accuracy:\\t{round(100*train_acc,3)} percent\")\n",
    "print(f\"Testing accuracy:\\t{round(100*test_acc,3)} percent\")"
   ]
  },
  {
   "cell_type": "code",
   "execution_count": 40,
   "metadata": {},
   "outputs": [
    {
     "data": {
      "image/png": "[encoded data removed]",
      "text/plain": [
       "<Figure size 1080x1080 with 1 Axes>"
      ]
     },
     "metadata": {},
     "output_type": "display_data"
    }
   ],
   "source": [
    "def points(points,W,MUs,k):\n",
    "    valmin=[]\n",
    "    for i in range(k):\n",
    "        valmin=valmin+[np.sqrt(((points - np.dot(MUs[i],W))**2).sum(axis=1))]\n",
    "    return np.argmin(valmin, axis=0)\n",
    "\n",
    "def draw_decision_boundary(X,Y,W,MUs):\n",
    "    plt.figure(figsize=(15,15))\n",
    "    k = 3\n",
    "    colors = ['blue','green','red']\n",
    "    data = np.dot(X,W)\n",
    "    for c in range(k):\n",
    "        cdata = data[np.argwhere(Y==c)][:,0]\n",
    "        plt.scatter(cdata[:,0],cdata[:,1],c=colors[c])\n",
    "        cmu = np.dot(MUs[[c]],W)\n",
    "        plt.scatter(cmu[:,0],cmu[:,1],c='dark'+colors[c],marker='*',s=200)\n",
    "    \n",
    "    N = 100\n",
    "    xx0 = np.tile(np.linspace(data[:,0].min()-1,data[:,0].max()+1,N), (N,1))\n",
    "    xx1 = np.tile(np.linspace(data[:,1].min()-1,data[:,1].max()+1,N), (N,1)).T\n",
    "    \n",
    "    xx0 = xx0.flatten()\n",
    "    xx1 = xx1.flatten()\n",
    "    Z = points(np.vstack([xx0,xx1]).T,W,MUs,k)\n",
    "    plt.contourf(xx0.reshape(N,N),xx1.reshape(N,N),Z.reshape(N,N), alpha=0.2, cmap='gray')\n",
    "    plt.show()\n",
    "    \n",
    "    \n",
    "draw_decision_boundary(X_train, y_train, ws, mus)"
   ]
  },
  {
   "cell_type": "code",
   "execution_count": null,
   "metadata": {},
   "outputs": [],
   "source": []
  }
 ],
 "metadata": {
  "kernelspec": {
   "display_name": "Python 3",
   "language": "python",
   "name": "python3"
  },
  "language_info": {
   "codemirror_mode": {
    "name": "ipython",
    "version": 3
   },
   "file_extension": ".py",
   "mimetype": "text/x-python",
   "name": "python",
   "nbconvert_exporter": "python",
   "pygments_lexer": "ipython3",
   "version": "3.6.9"
  }
 },
 "nbformat": 4,
 "nbformat_minor": 2
}
